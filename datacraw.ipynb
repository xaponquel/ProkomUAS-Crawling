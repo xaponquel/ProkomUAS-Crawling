import pandas as pd
from selenium import webdriver
from bs4 import BeautifulSoup

# Inisialisasi WebDriver (Chrome)
driver = webdriver.Chrome()

# Membuka halaman web
driver.get('https://myanimelist.net/topanime.php')

# Mendapatkan HTML halaman setelah JavaScript dieksekusi
html = driver.page_source

# Membuat objek BeautifulSoup
soup = BeautifulSoup(html, 'html.parser')

# Mencari elemen dengan class 'ranking-list'
anime_list = soup.find_all('tr', class_='ranking-list')

# Looping melalui setiap elemen anime_list
for anime in anime_list:
    rank = anime.find(class_='rank').text.strip()
    title = anime.find(class_='di-ib clearfix').text.strip()
    rating = anime.find(class_='js-top-ranking-score-col di-ib al').text.strip()
    
    print(f'Rank: {rank}')
    print(f'Judul: {title}')
    print(f'Rating: {rating}')
    print('---')

# Menutup WebDriver
driver.quit()

# Membuat DataFrame dari data
df = pd.DataFrame()

# Simpan DataFrame ke dalam file CSV
df.to_csv('anime_data.csv', index=False)

# Simpan DataFrame ke dalam file XLSX (Excel)
df.to_excel('anime_data.xlsx', index=False)
print()
