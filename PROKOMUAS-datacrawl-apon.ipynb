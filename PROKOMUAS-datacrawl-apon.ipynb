{
 "cells": [
  {
   "cell_type": "code",
   "execution_count": 1,
   "id": "13e00392",
   "metadata": {},
   "outputs": [],
   "source": [
    "# Import library\n",
    "import pandas as pd\n",
    "from selenium import webdriver\n",
    "from bs4 import BeautifulSoup\n",
    "from tabulate import tabulate\n"
   ]
  },
  {
   "cell_type": "code",
   "execution_count": 2,
   "id": "2abb3121",
   "metadata": {},
   "outputs": [],
   "source": [
    "# Inisialisasi WebDriver (Chrome)\n",
    "driver = webdriver.Chrome()"
   ]
  },
  {
   "cell_type": "code",
   "execution_count": 3,
   "id": "538cdec8",
   "metadata": {},
   "outputs": [],
   "source": [
    "# Membuka halaman web\n",
    "driver.get('https://myanimelist.net/topanime.php')"
   ]
  },
  {
   "cell_type": "code",
   "execution_count": 4,
   "id": "48cad16c",
   "metadata": {},
   "outputs": [],
   "source": [
    "# Mendapatkan HTML halaman setelah JavaScript dieksekusi\n",
    "html = driver.page_source"
   ]
  },
  {
   "cell_type": "code",
   "execution_count": 5,
   "id": "e5b7dd83",
   "metadata": {},
   "outputs": [],
   "source": [
    "# Membuat objek BeautifulSoup\n",
    "soup = BeautifulSoup(html, 'html.parser')"
   ]
  },
  {
   "cell_type": "code",
   "execution_count": 6,
   "id": "48c64390",
   "metadata": {},
   "outputs": [],
   "source": [
    "# Mencari elemen dengan class 'ranking-list'\n",
    "anime_list = soup.find_all('tr', class_='ranking-list')"
   ]
  },
  {
   "cell_type": "code",
   "execution_count": 7,
   "id": "db023cef",
   "metadata": {},
   "outputs": [],
   "source": [
    "# Membuat list kosong untuk menyimpan data anime\n",
    "data = []"
   ]
  },
  {
   "cell_type": "code",
   "execution_count": 8,
   "id": "92b98a96",
   "metadata": {},
   "outputs": [],
   "source": [
    "# Looping melalui setiap elemen anime_list\n",
    "for anime in anime_list:\n",
    "    rank = anime.find(class_='rank').text.strip()\n",
    "    title = anime.find(class_='di-ib clearfix').text.strip()\n",
    "    rating = anime.find(class_='js-top-ranking-score-col di-ib al').text.strip()\n",
    "    \n",
    "    # Menambahkan data anime ke dalam list\n",
    "    data.append([rank, title, rating])\n",
    "\n",
    "# Menutup WebDriver\n",
    "driver.quit()"
   ]
  },
  {
   "cell_type": "code",
   "execution_count": 9,
   "id": "1fd4d729",
   "metadata": {},
   "outputs": [],
   "source": [
    "# Membuat DataFrame dari data\n",
    "df = pd.DataFrame(data, columns=['Rank', 'Judul', 'Rating'])"
   ]
  },
  {
   "cell_type": "code",
   "execution_count": 10,
   "id": "842831a0",
   "metadata": {},
   "outputs": [
    {
     "name": "stdout",
     "output_type": "stream",
     "text": [
      "╒════╤════════╤═══════════════════════════════════════════════════════════╤══════════╕\n",
      "│    │   Rank │ Judul                                                     │   Rating │\n",
      "╞════╪════════╪═══════════════════════════════════════════════════════════╪══════════╡\n",
      "│  0 │      1 │ Fullmetal Alchemist: Brotherhood                          │     9.1  │\n",
      "├────┼────────┼───────────────────────────────────────────────────────────┼──────────┤\n",
      "│  1 │      2 │ Bleach: Sennen Kessen-hen                                 │     9.07 │\n",
      "├────┼────────┼───────────────────────────────────────────────────────────┼──────────┤\n",
      "│  2 │      3 │ Steins;Gate                                               │     9.07 │\n",
      "├────┼────────┼───────────────────────────────────────────────────────────┼──────────┤\n",
      "│  3 │      4 │ Shingeki no Kyojin Season 3 Part 2                        │     9.06 │\n",
      "├────┼────────┼───────────────────────────────────────────────────────────┼──────────┤\n",
      "│  4 │      5 │ Shingeki no Kyojin: The Final Season - Kanketsu-hen       │     9.06 │\n",
      "├────┼────────┼───────────────────────────────────────────────────────────┼──────────┤\n",
      "│  5 │      6 │ Gintama°                                                  │     9.06 │\n",
      "├────┼────────┼───────────────────────────────────────────────────────────┼──────────┤\n",
      "│  6 │      7 │ Kaguya-sama wa Kokurasetai: Ultra Romantic                │     9.05 │\n",
      "├────┼────────┼───────────────────────────────────────────────────────────┼──────────┤\n",
      "│  7 │      8 │ Gintama'                                                  │     9.04 │\n",
      "├────┼────────┼───────────────────────────────────────────────────────────┼──────────┤\n",
      "│  8 │      9 │ Gintama: The Final                                        │     9.04 │\n",
      "├────┼────────┼───────────────────────────────────────────────────────────┼──────────┤\n",
      "│  9 │     10 │ Hunter x Hunter (2011)                                    │     9.04 │\n",
      "├────┼────────┼───────────────────────────────────────────────────────────┼──────────┤\n",
      "│ 10 │     11 │ Gintama': Enchousen                                       │     9.03 │\n",
      "├────┼────────┼───────────────────────────────────────────────────────────┼──────────┤\n",
      "│ 11 │     12 │ Ginga Eiyuu Densetsu                                      │     9.02 │\n",
      "├────┼────────┼───────────────────────────────────────────────────────────┼──────────┤\n",
      "│ 12 │     13 │ \"Oshi no Ko\"                                              │     9    │\n",
      "├────┼────────┼───────────────────────────────────────────────────────────┼──────────┤\n",
      "│ 13 │     14 │ Fruits Basket: The Final                                  │     9    │\n",
      "├────┼────────┼───────────────────────────────────────────────────────────┼──────────┤\n",
      "│ 14 │     15 │ Gintama.                                                  │     8.98 │\n",
      "├────┼────────┼───────────────────────────────────────────────────────────┼──────────┤\n",
      "│ 15 │     16 │ Gintama                                                   │     8.94 │\n",
      "├────┼────────┼───────────────────────────────────────────────────────────┼──────────┤\n",
      "│ 16 │     17 │ Koe no Katachi                                            │     8.94 │\n",
      "├────┼────────┼───────────────────────────────────────────────────────────┼──────────┤\n",
      "│ 17 │     18 │ 3-gatsu no Lion 2nd Season                                │     8.93 │\n",
      "├────┼────────┼───────────────────────────────────────────────────────────┼──────────┤\n",
      "│ 18 │     19 │ Clannad: After Story                                      │     8.93 │\n",
      "├────┼────────┼───────────────────────────────────────────────────────────┼──────────┤\n",
      "│ 19 │     20 │ Code Geass: Hangyaku no Lelouch R2                        │     8.91 │\n",
      "├────┼────────┼───────────────────────────────────────────────────────────┼──────────┤\n",
      "│ 20 │     21 │ Gintama Movie 2: Kanketsu-hen - Yorozuya yo Eien Nare     │     8.91 │\n",
      "├────┼────────┼───────────────────────────────────────────────────────────┼──────────┤\n",
      "│ 21 │     22 │ Violet Evergarden Movie                                   │     8.9  │\n",
      "├────┼────────┼───────────────────────────────────────────────────────────┼──────────┤\n",
      "│ 22 │     23 │ Owarimonogatari 2nd Season                                │     8.88 │\n",
      "├────┼────────┼───────────────────────────────────────────────────────────┼──────────┤\n",
      "│ 23 │     24 │ Gintama.: Shirogane no Tamashii-hen - Kouhan-sen          │     8.88 │\n",
      "├────┼────────┼───────────────────────────────────────────────────────────┼──────────┤\n",
      "│ 24 │     25 │ Kaguya-sama wa Kokurasetai: First Kiss wa Owaranai        │     8.88 │\n",
      "├────┼────────┼───────────────────────────────────────────────────────────┼──────────┤\n",
      "│ 25 │     26 │ Monster                                                   │     8.87 │\n",
      "├────┼────────┼───────────────────────────────────────────────────────────┼──────────┤\n",
      "│ 26 │     27 │ Bocchi the Rock!                                          │     8.86 │\n",
      "├────┼────────┼───────────────────────────────────────────────────────────┼──────────┤\n",
      "│ 27 │     28 │ Kimi no Na wa.                                            │     8.85 │\n",
      "├────┼────────┼───────────────────────────────────────────────────────────┼──────────┤\n",
      "│ 28 │     29 │ Kingdom 3rd Season                                        │     8.81 │\n",
      "├────┼────────┼───────────────────────────────────────────────────────────┼──────────┤\n",
      "│ 29 │     30 │ Gintama.: Shirogane no Tamashii-hen                       │     8.81 │\n",
      "├────┼────────┼───────────────────────────────────────────────────────────┼──────────┤\n",
      "│ 30 │     31 │ Kimetsu no Yaiba: Yuukaku-hen                             │     8.8  │\n",
      "├────┼────────┼───────────────────────────────────────────────────────────┼──────────┤\n",
      "│ 31 │     32 │ Mob Psycho 100 II                                         │     8.8  │\n",
      "├────┼────────┼───────────────────────────────────────────────────────────┼──────────┤\n",
      "│ 32 │     33 │ Shingeki no Kyojin: The Final Season                      │     8.8  │\n",
      "├────┼────────┼───────────────────────────────────────────────────────────┼──────────┤\n",
      "│ 33 │     34 │ Kizumonogatari III: Reiketsu-hen                          │     8.79 │\n",
      "├────┼────────┼───────────────────────────────────────────────────────────┼──────────┤\n",
      "│ 34 │     35 │ Sen to Chihiro no Kamikakushi                             │     8.78 │\n",
      "├────┼────────┼───────────────────────────────────────────────────────────┼──────────┤\n",
      "│ 35 │     36 │ Haikyuu!! Karasuno Koukou vs. Shiratorizawa Gakuen Koukou │     8.78 │\n",
      "├────┼────────┼───────────────────────────────────────────────────────────┼──────────┤\n",
      "│ 36 │     37 │ Monogatari Series: Second Season                          │     8.77 │\n",
      "├────┼────────┼───────────────────────────────────────────────────────────┼──────────┤\n",
      "│ 37 │     38 │ Shingeki no Kyojin: The Final Season Part 2               │     8.77 │\n",
      "├────┼────────┼───────────────────────────────────────────────────────────┼──────────┤\n",
      "│ 38 │     39 │ Hajime no Ippo                                            │     8.76 │\n",
      "├────┼────────┼───────────────────────────────────────────────────────────┼──────────┤\n",
      "│ 39 │     40 │ Cowboy Bebop                                              │     8.75 │\n",
      "├────┼────────┼───────────────────────────────────────────────────────────┼──────────┤\n",
      "│ 40 │     41 │ Kingdom 4th Season                                        │     8.75 │\n",
      "├────┼────────┼───────────────────────────────────────────────────────────┼──────────┤\n",
      "│ 41 │     42 │ Vinland Saga                                              │     8.74 │\n",
      "├────┼────────┼───────────────────────────────────────────────────────────┼──────────┤\n",
      "│ 42 │     43 │ Mushishi Zoku Shou 2nd Season                             │     8.73 │\n",
      "├────┼────────┼───────────────────────────────────────────────────────────┼──────────┤\n",
      "│ 43 │     44 │ Shiguang Dailiren                                         │     8.73 │\n",
      "├────┼────────┼───────────────────────────────────────────────────────────┼──────────┤\n",
      "│ 44 │     45 │ Shouwa Genroku Rakugo Shinjuu: Sukeroku Futatabi-hen      │     8.73 │\n",
      "├────┼────────┼───────────────────────────────────────────────────────────┼──────────┤\n",
      "│ 45 │     46 │ Mob Psycho 100 III                                        │     8.72 │\n",
      "├────┼────────┼───────────────────────────────────────────────────────────┼──────────┤\n",
      "│ 46 │     47 │ Vinland Saga Season 2                                     │     8.72 │\n",
      "├────┼────────┼───────────────────────────────────────────────────────────┼──────────┤\n",
      "│ 47 │     48 │ Rurouni Kenshin: Meiji Kenkaku Romantan - Tsuioku-hen     │     8.71 │\n",
      "├────┼────────┼───────────────────────────────────────────────────────────┼──────────┤\n",
      "│ 48 │     49 │ 86 Part 2                                                 │     8.71 │\n",
      "├────┼────────┼───────────────────────────────────────────────────────────┼──────────┤\n",
      "│ 49 │     50 │ Ashita no Joe 2                                           │     8.71 │\n",
      "╘════╧════════╧═══════════════════════════════════════════════════════════╧══════════╛\n"
     ]
    }
   ],
   "source": [
    "# Membuat DataFrame dari data\n",
    "df = pd.DataFrame(data, columns=['Rank', 'Judul', 'Rating'])\n",
    "\n",
    "# Menampilkan DataFrame sebagai tabel rapi\n",
    "table = tabulate(df, headers='keys', tablefmt='fancy_grid')\n",
    "print(table)\n"
   ]
  },
  {
   "cell_type": "code",
   "execution_count": 11,
   "id": "b410f240",
   "metadata": {},
   "outputs": [],
   "source": [
    "# Simpan DataFrame ke dalam file CSV\n",
    "df.to_csv('anime_data.csv', index=False)"
   ]
  },
  {
   "cell_type": "code",
   "execution_count": 12,
   "id": "4425224d",
   "metadata": {},
   "outputs": [],
   "source": [
    "# Simpan DataFrame ke dalam file XLSX (Excel)\n",
    "df.to_excel('anime_data.xlsx', index=False)"
   ]
  }
 ],
 "metadata": {
  "kernelspec": {
   "display_name": "Python 3 (ipykernel)",
   "language": "python",
   "name": "python3"
  },
  "language_info": {
   "codemirror_mode": {
    "name": "ipython",
    "version": 3
   },
   "file_extension": ".py",
   "mimetype": "text/x-python",
   "name": "python",
   "nbconvert_exporter": "python",
   "pygments_lexer": "ipython3",
   "version": "3.9.16"
  }
 },
 "nbformat": 4,
 "nbformat_minor": 5
}
